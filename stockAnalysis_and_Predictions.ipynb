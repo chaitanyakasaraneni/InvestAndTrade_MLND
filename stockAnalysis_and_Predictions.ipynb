{
 "cells": [
  {
   "cell_type": "markdown",
   "metadata": {},
   "source": [
    "# Machine Learning Engineer Nanodegree\n",
    "## Investment and Trading Capstone Project Proposal\n",
    "## Project: Build a Stock Price Indicator"
   ]
  },
  {
   "cell_type": "markdown",
   "metadata": {},
   "source": [
    "## Getting Started\n",
    "\n",
    "Machine-learning has found its application in many different areas of finance. It has been applied to spot unusual patterns of transactions, which can indicate fraud. It has been applied in the document-heavy parts of finance, where AI-based systems can be used to recognize text. It is also good at automating financial decisions, like assessing creditworthiness or eligibility for an insurance policy. The newest frontier for machine-learning is in trading, where it is used both to analyze market data and to select and trade portfolios of securities.  This project will utilize machine-learning in this area to build a stock price indicator. \n",
    "\n",
    "The problem to be solved in this project is to accurately predict the future closing value of a given stock across a given period of time in the future. One potential solution is to utilize deep learning methods to predict the future value. This model can be trained using the historical data of different stocks, and the predicted value can be compared with the actual value of these stocks. The percentage difference between the predicted value and the actual value can be used to calculate the accuracy of the model.\n",
    "\n",
    "This project will use open source historical stock price data from Yahoo! Finance. Yahoo finance provides a relatively simple process of obtaining basic financial information. Information available includes financial statements and price and volume data. CSV files can be obtained through its website about the data, and web API is available. \n"
   ]
  },
  {
   "cell_type": "markdown",
   "metadata": {},
   "source": [
    "## Exploring the Data\n",
    "\n",
    "Load necessary Python libraries and load the data. I have chosen 10 different stocks and downloaded the historical data for 10 years. These stocks include a wide range of banks, tech companies, index and hotels."
   ]
  },
  {
   "cell_type": "code",
   "execution_count": 1,
   "metadata": {},
   "outputs": [],
   "source": [
    "# Import libraries necessary for this project\n",
    "import random\n",
    "import pandas as pd\n",
    "import matplotlib.pyplot as plt\n",
    "import numpy as np\n",
    "\n",
    "data_path = \"data/\""
   ]
  },
  {
   "cell_type": "code",
   "execution_count": 2,
   "metadata": {},
   "outputs": [
    {
     "data": {
      "text/html": [
       "<div>\n",
       "<style scoped>\n",
       "    .dataframe tbody tr th:only-of-type {\n",
       "        vertical-align: middle;\n",
       "    }\n",
       "\n",
       "    .dataframe tbody tr th {\n",
       "        vertical-align: top;\n",
       "    }\n",
       "\n",
       "    .dataframe thead th {\n",
       "        text-align: right;\n",
       "    }\n",
       "</style>\n",
       "<table border=\"1\" class=\"dataframe\">\n",
       "  <thead>\n",
       "    <tr style=\"text-align: right;\">\n",
       "      <th></th>\n",
       "      <th>Date</th>\n",
       "      <th>Open</th>\n",
       "      <th>High</th>\n",
       "      <th>Low</th>\n",
       "      <th>Close</th>\n",
       "      <th>Adj Close</th>\n",
       "      <th>Volume</th>\n",
       "    </tr>\n",
       "  </thead>\n",
       "  <tbody>\n",
       "    <tr>\n",
       "      <th>0</th>\n",
       "      <td>1980-12-12</td>\n",
       "      <td>0.513393</td>\n",
       "      <td>0.515625</td>\n",
       "      <td>0.513393</td>\n",
       "      <td>0.513393</td>\n",
       "      <td>0.405683</td>\n",
       "      <td>117258400.0</td>\n",
       "    </tr>\n",
       "    <tr>\n",
       "      <th>1</th>\n",
       "      <td>1980-12-15</td>\n",
       "      <td>0.488839</td>\n",
       "      <td>0.488839</td>\n",
       "      <td>0.486607</td>\n",
       "      <td>0.486607</td>\n",
       "      <td>0.384517</td>\n",
       "      <td>43971200.0</td>\n",
       "    </tr>\n",
       "    <tr>\n",
       "      <th>2</th>\n",
       "      <td>1980-12-16</td>\n",
       "      <td>0.453125</td>\n",
       "      <td>0.453125</td>\n",
       "      <td>0.450893</td>\n",
       "      <td>0.450893</td>\n",
       "      <td>0.356296</td>\n",
       "      <td>26432000.0</td>\n",
       "    </tr>\n",
       "    <tr>\n",
       "      <th>3</th>\n",
       "      <td>1980-12-17</td>\n",
       "      <td>0.462054</td>\n",
       "      <td>0.464286</td>\n",
       "      <td>0.462054</td>\n",
       "      <td>0.462054</td>\n",
       "      <td>0.365115</td>\n",
       "      <td>21610400.0</td>\n",
       "    </tr>\n",
       "    <tr>\n",
       "      <th>4</th>\n",
       "      <td>1980-12-18</td>\n",
       "      <td>0.475446</td>\n",
       "      <td>0.477679</td>\n",
       "      <td>0.475446</td>\n",
       "      <td>0.475446</td>\n",
       "      <td>0.375698</td>\n",
       "      <td>18362400.0</td>\n",
       "    </tr>\n",
       "  </tbody>\n",
       "</table>\n",
       "</div>"
      ],
      "text/plain": [
       "         Date      Open      High       Low     Close  Adj Close       Volume\n",
       "0  1980-12-12  0.513393  0.515625  0.513393  0.513393   0.405683  117258400.0\n",
       "1  1980-12-15  0.488839  0.488839  0.486607  0.486607   0.384517   43971200.0\n",
       "2  1980-12-16  0.453125  0.453125  0.450893  0.450893   0.356296   26432000.0\n",
       "3  1980-12-17  0.462054  0.464286  0.462054  0.462054   0.365115   21610400.0\n",
       "4  1980-12-18  0.475446  0.477679  0.475446  0.475446   0.375698   18362400.0"
      ]
     },
     "execution_count": 2,
     "metadata": {},
     "output_type": "execute_result"
    }
   ],
   "source": [
    "# Load the Apple stock dataset\n",
    "AAPLData = pd.read_csv(data_path+\"AAPL.csv\")\n",
    "# Success - Display the 10 record\n",
    "AAPLData.head()"
   ]
  },
  {
   "cell_type": "markdown",
   "metadata": {},
   "source": [
    "### Implementation: Data Exploration\n",
    "A cursory investigation of the dataset will give a sense of how the data is like"
   ]
  },
  {
   "cell_type": "code",
   "execution_count": 3,
   "metadata": {},
   "outputs": [
    {
     "data": {
      "text/html": [
       "<div>\n",
       "<style scoped>\n",
       "    .dataframe tbody tr th:only-of-type {\n",
       "        vertical-align: middle;\n",
       "    }\n",
       "\n",
       "    .dataframe tbody tr th {\n",
       "        vertical-align: top;\n",
       "    }\n",
       "\n",
       "    .dataframe thead th {\n",
       "        text-align: right;\n",
       "    }\n",
       "</style>\n",
       "<table border=\"1\" class=\"dataframe\">\n",
       "  <thead>\n",
       "    <tr style=\"text-align: right;\">\n",
       "      <th></th>\n",
       "      <th>Open</th>\n",
       "      <th>High</th>\n",
       "      <th>Low</th>\n",
       "      <th>Close</th>\n",
       "      <th>Adj Close</th>\n",
       "      <th>Volume</th>\n",
       "    </tr>\n",
       "  </thead>\n",
       "  <tbody>\n",
       "    <tr>\n",
       "      <th>count</th>\n",
       "      <td>9975.000000</td>\n",
       "      <td>9975.000000</td>\n",
       "      <td>9975.000000</td>\n",
       "      <td>9975.000000</td>\n",
       "      <td>9975.000000</td>\n",
       "      <td>9.975000e+03</td>\n",
       "    </tr>\n",
       "    <tr>\n",
       "      <th>mean</th>\n",
       "      <td>34.466046</td>\n",
       "      <td>34.821969</td>\n",
       "      <td>34.117332</td>\n",
       "      <td>34.483556</td>\n",
       "      <td>32.371718</td>\n",
       "      <td>8.550168e+07</td>\n",
       "    </tr>\n",
       "    <tr>\n",
       "      <th>std</th>\n",
       "      <td>62.583209</td>\n",
       "      <td>63.245408</td>\n",
       "      <td>62.001929</td>\n",
       "      <td>62.662276</td>\n",
       "      <td>60.981784</td>\n",
       "      <td>8.578463e+07</td>\n",
       "    </tr>\n",
       "    <tr>\n",
       "      <th>min</th>\n",
       "      <td>0.198661</td>\n",
       "      <td>0.198661</td>\n",
       "      <td>0.196429</td>\n",
       "      <td>0.196429</td>\n",
       "      <td>0.155218</td>\n",
       "      <td>3.472000e+05</td>\n",
       "    </tr>\n",
       "    <tr>\n",
       "      <th>25%</th>\n",
       "      <td>1.077143</td>\n",
       "      <td>1.098214</td>\n",
       "      <td>1.053571</td>\n",
       "      <td>1.075893</td>\n",
       "      <td>0.918567</td>\n",
       "      <td>3.296160e+07</td>\n",
       "    </tr>\n",
       "    <tr>\n",
       "      <th>50%</th>\n",
       "      <td>1.741071</td>\n",
       "      <td>1.775714</td>\n",
       "      <td>1.705357</td>\n",
       "      <td>1.743571</td>\n",
       "      <td>1.471641</td>\n",
       "      <td>5.732790e+07</td>\n",
       "    </tr>\n",
       "    <tr>\n",
       "      <th>75%</th>\n",
       "      <td>37.565000</td>\n",
       "      <td>37.828571</td>\n",
       "      <td>37.133570</td>\n",
       "      <td>37.426428</td>\n",
       "      <td>32.399955</td>\n",
       "      <td>1.066482e+08</td>\n",
       "    </tr>\n",
       "    <tr>\n",
       "      <th>max</th>\n",
       "      <td>375.410004</td>\n",
       "      <td>378.619995</td>\n",
       "      <td>372.230011</td>\n",
       "      <td>373.850006</td>\n",
       "      <td>373.850006</td>\n",
       "      <td>1.855410e+09</td>\n",
       "    </tr>\n",
       "  </tbody>\n",
       "</table>\n",
       "</div>"
      ],
      "text/plain": [
       "              Open         High          Low        Close    Adj Close  \\\n",
       "count  9975.000000  9975.000000  9975.000000  9975.000000  9975.000000   \n",
       "mean     34.466046    34.821969    34.117332    34.483556    32.371718   \n",
       "std      62.583209    63.245408    62.001929    62.662276    60.981784   \n",
       "min       0.198661     0.198661     0.196429     0.196429     0.155218   \n",
       "25%       1.077143     1.098214     1.053571     1.075893     0.918567   \n",
       "50%       1.741071     1.775714     1.705357     1.743571     1.471641   \n",
       "75%      37.565000    37.828571    37.133570    37.426428    32.399955   \n",
       "max     375.410004   378.619995   372.230011   373.850006   373.850006   \n",
       "\n",
       "             Volume  \n",
       "count  9.975000e+03  \n",
       "mean   8.550168e+07  \n",
       "std    8.578463e+07  \n",
       "min    3.472000e+05  \n",
       "25%    3.296160e+07  \n",
       "50%    5.732790e+07  \n",
       "75%    1.066482e+08  \n",
       "max    1.855410e+09  "
      ]
     },
     "execution_count": 3,
     "metadata": {},
     "output_type": "execute_result"
    }
   ],
   "source": [
    "#statistics calculated\n",
    "AAPLData.describe()"
   ]
  },
  {
   "cell_type": "code",
   "execution_count": 4,
   "metadata": {},
   "outputs": [
    {
     "data": {
      "image/png": "[encoded data removed]",
      "text/plain": [
       "<Figure size 432x288 with 1 Axes>"
      ]
     },
     "metadata": {
      "needs_background": "light"
     },
     "output_type": "display_data"
    }
   ],
   "source": [
    "# plot the closing price over time\n",
    "cloPri=AAPLData[['Adj Close','Close']]\n",
    "cloPri.plot()\n",
    "plt.show()"
   ]
  },
  {
   "cell_type": "code",
   "execution_count": 5,
   "metadata": {},
   "outputs": [],
   "source": [
    "# look into other stock data:\n",
    "##join multiple stock data:\n",
    "\n",
    "#Read Stock data \n",
    "def readStocks(symbols,dates):\n",
    "    #create empty dataframe:\n",
    "    df1=pd.DataFrame(index=dates)\n",
    "    for symbol in symbols:\n",
    "        dfStock=pd.read_csv(data_path+\"{}.csv\".format(symbol),index_col='Date',parse_dates=True, usecols=['Date','Adj Close'],na_values=['nan'])\n",
    "        dfStock=dfStock.rename(columns={'Adj Close':symbol})\n",
    "        #join dataset together:\n",
    "        df1=df1.join(dfStock,how='inner')\n",
    "    return df1"
   ]
  },
  {
   "cell_type": "code",
   "execution_count": 6,
   "metadata": {},
   "outputs": [],
   "source": [
    "dates=pd.date_range('2010-03-31','2020-03-31')\n",
    "dfStocks=readStocks(['MSFT','AMZN','GOOG'],dates)"
   ]
  },
  {
   "cell_type": "markdown",
   "metadata": {},
   "source": [
    "#### Plot the stocks on the same graph"
   ]
  },
  {
   "cell_type": "code",
   "execution_count": 7,
   "metadata": {},
   "outputs": [
    {
     "data": {
      "image/png": "[encoded data removed]",
      "text/plain": [
       "<Figure size 432x288 with 1 Axes>"
      ]
     },
     "metadata": {
      "needs_background": "light"
     },
     "output_type": "display_data"
    }
   ],
   "source": [
    "#plot these stock data together:\n",
    "def plotStocks(df,title):\n",
    "    ax=df.plot(title=title)\n",
    "    ax.set_xlabel('Date')\n",
    "    ax.set_ylabel('Price')\n",
    "    plt.show()\n",
    "\n",
    "plotStocks(dfStocks,'Closing Price')"
   ]
  },
  {
   "cell_type": "code",
   "execution_count": 8,
   "metadata": {},
   "outputs": [],
   "source": [
    "def plot_selected(df, columns, start_index, end_index):\n",
    "    \"\"\"Plot the desired columns over index values in the given range.\"\"\"\n",
    "    dfTemp=df.loc[start_index:end_index,columns]\n",
    "    #normalize data\n",
    "    dfTemp=dfTemp/dfTemp.iloc[0,:]\n",
    "    ax=dfTemp.plot(title='Selected Data')\n",
    "    ax.set_xlabel('Date')\n",
    "    ax.set_ylabel('Price')\n",
    "    plt.show()\n",
    "\n"
   ]
  },
  {
   "cell_type": "code",
   "execution_count": 9,
   "metadata": {},
   "outputs": [
    {
     "data": {
      "image/png": "[encoded data removed]",
      "text/plain": [
       "<Figure size 432x288 with 1 Axes>"
      ]
     },
     "metadata": {
      "needs_background": "light"
     },
     "output_type": "display_data"
    },
    {
     "data": {
      "text/plain": [
       "MSFT     135.723443\n",
       "AMZN    1818.130030\n",
       "GOOG    1221.680096\n",
       "dtype: float64"
      ]
     },
     "execution_count": 9,
     "metadata": {},
     "output_type": "execute_result"
    }
   ],
   "source": [
    "#Explore the data a little bit:\n",
    "plot_selected(dfStocks,['MSFT','AMZN','GOOG'],'2019-01-01','2020-03-31')\n",
    "#calculate the mean of the stock for this year\n",
    "dfStocks.loc['2019-01-01':'2020-03-31',:].mean()"
   ]
  },
  {
   "cell_type": "code",
   "execution_count": 10,
   "metadata": {},
   "outputs": [
    {
     "data": {
      "text/plain": [
       "MSFT     4.926764\n",
       "AMZN    73.182246\n",
       "GOOG    62.978942\n",
       "dtype: float64"
      ]
     },
     "execution_count": 10,
     "metadata": {},
     "output_type": "execute_result"
    }
   ],
   "source": [
    "#calculate standard deviation for the volitility of the stock\n",
    "dfStocks.loc['2017-01-01':'2017-10-31',:].std()"
   ]
  },
  {
   "cell_type": "markdown",
   "metadata": {},
   "source": [
    "#### Explore the Rollinger Bands"
   ]
  },
  {
   "cell_type": "code",
   "execution_count": 11,
   "metadata": {},
   "outputs": [
    {
     "data": {
      "image/png": "[encoded data removed]",
      "text/plain": [
       "<Figure size 432x288 with 1 Axes>"
      ]
     },
     "metadata": {
      "needs_background": "light"
     },
     "output_type": "display_data"
    }
   ],
   "source": [
    "### If stock price is out of rollinger bands, then it presents a buying or selling opportunity\n",
    "ax=dfStocks.loc['2019-03-31':'2020-03-31','AMZN'].plot(label='AMZN')\n",
    "rm_AMZN=dfStocks.loc['2019-03-31':'2020-03-31','AMZN'].rolling(window=20,center=False).mean()\n",
    "rs_AMZN=dfStocks.loc['2019-03-31':'2020-03-31','AMZN'].rolling(window=20,center=False).std()\n",
    "(rm_AMZN+rs_AMZN).plot(label='upband',ax=ax)\n",
    "(rm_AMZN-rs_AMZN).plot(label='lowerband',ax=ax)\n",
    "ax.set_xlabel('Date')\n",
    "ax.set_ylabel('Price')\n",
    "ax.legend()\n",
    "plt.show()\n",
    "\n"
   ]
  },
  {
   "cell_type": "markdown",
   "metadata": {},
   "source": [
    "#### Explore the cumulative returns of MSFT and a certain stock"
   ]
  },
  {
   "cell_type": "code",
   "execution_count": 12,
   "metadata": {},
   "outputs": [
    {
     "data": {
      "image/png": "[encoded data removed]",
      "text/plain": [
       "<Figure size 432x288 with 1 Axes>"
      ]
     },
     "metadata": {
      "needs_background": "light"
     },
     "output_type": "display_data"
    }
   ],
   "source": [
    "### Daily return tells important information about stock performance\n",
    "def compute_cuReturns(df):\n",
    "    dReturns=df.copy()\n",
    "    dReturns=dReturns/dReturns[0]-1\n",
    "    return dReturns\n",
    "dRMSFT=compute_cuReturns(dfStocks.loc['2019-03-31':'2020-03-31','MSFT'])\n",
    "dRAMZN=compute_cuReturns(dfStocks.loc['2019-03-31':'2020-03-31','AMZN'])\n",
    "ax=dRMSFT.plot()\n",
    "dRAMZN.plot(ax=ax)\n",
    "ax.legend()\n",
    "plt.show()"
   ]
  },
  {
   "cell_type": "markdown",
   "metadata": {},
   "source": [
    "##### From the graph it can be seen that AMZN returns spikes at the end of February 2020, while it underperformed at the end of March 2020"
   ]
  },
  {
   "cell_type": "markdown",
   "metadata": {},
   "source": [
    "----\n",
    "## Preparing the Data\n",
    "Before data can be used as input for machine learning algorithms, it often must be cleaned, formatted, and restructured — this is typically known as **preprocessing**. For this dataset, the stock price might be missing for holidays or certain days. This preprocessing can help tremendously with the outcome and predictive power of nearly all learning algorithms."
   ]
  },
  {
   "cell_type": "code",
   "execution_count": 13,
   "metadata": {},
   "outputs": [],
   "source": [
    "dates=pd.date_range('2004-01-01','2020-03-31')\n",
    "stickers=['MSFT','AMZN','GOOG','NVDA','INTC','AAPL']\n",
    "dfStocks=readStocks(stickers,dates)"
   ]
  },
  {
   "cell_type": "code",
   "execution_count": 14,
   "metadata": {},
   "outputs": [
    {
     "data": {
      "text/html": [
       "<div>\n",
       "<style scoped>\n",
       "    .dataframe tbody tr th:only-of-type {\n",
       "        vertical-align: middle;\n",
       "    }\n",
       "\n",
       "    .dataframe tbody tr th {\n",
       "        vertical-align: top;\n",
       "    }\n",
       "\n",
       "    .dataframe thead th {\n",
       "        text-align: right;\n",
       "    }\n",
       "</style>\n",
       "<table border=\"1\" class=\"dataframe\">\n",
       "  <thead>\n",
       "    <tr style=\"text-align: right;\">\n",
       "      <th></th>\n",
       "      <th>MSFT</th>\n",
       "      <th>AMZN</th>\n",
       "      <th>GOOG</th>\n",
       "      <th>NVDA</th>\n",
       "      <th>INTC</th>\n",
       "      <th>AAPL</th>\n",
       "    </tr>\n",
       "  </thead>\n",
       "  <tbody>\n",
       "    <tr>\n",
       "      <th>2004-08-19</th>\n",
       "      <td>17.505459</td>\n",
       "      <td>38.630001</td>\n",
       "      <td>49.982655</td>\n",
       "      <td>3.575576</td>\n",
       "      <td>14.246237</td>\n",
       "      <td>1.898969</td>\n",
       "    </tr>\n",
       "    <tr>\n",
       "      <th>2004-08-20</th>\n",
       "      <td>17.557100</td>\n",
       "      <td>39.509998</td>\n",
       "      <td>53.952770</td>\n",
       "      <td>3.787167</td>\n",
       "      <td>13.993801</td>\n",
       "      <td>1.904534</td>\n",
       "    </tr>\n",
       "    <tr>\n",
       "      <th>2004-08-23</th>\n",
       "      <td>17.634779</td>\n",
       "      <td>39.450001</td>\n",
       "      <td>54.495735</td>\n",
       "      <td>3.869963</td>\n",
       "      <td>14.168562</td>\n",
       "      <td>1.921849</td>\n",
       "    </tr>\n",
       "    <tr>\n",
       "      <th>2004-08-24</th>\n",
       "      <td>17.634779</td>\n",
       "      <td>39.049999</td>\n",
       "      <td>52.239193</td>\n",
       "      <td>3.725836</td>\n",
       "      <td>14.026159</td>\n",
       "      <td>1.975645</td>\n",
       "    </tr>\n",
       "    <tr>\n",
       "      <th>2004-08-25</th>\n",
       "      <td>17.835468</td>\n",
       "      <td>40.299999</td>\n",
       "      <td>52.802086</td>\n",
       "      <td>3.885296</td>\n",
       "      <td>14.207398</td>\n",
       "      <td>2.043664</td>\n",
       "    </tr>\n",
       "  </tbody>\n",
       "</table>\n",
       "</div>"
      ],
      "text/plain": [
       "                 MSFT       AMZN       GOOG      NVDA       INTC      AAPL\n",
       "2004-08-19  17.505459  38.630001  49.982655  3.575576  14.246237  1.898969\n",
       "2004-08-20  17.557100  39.509998  53.952770  3.787167  13.993801  1.904534\n",
       "2004-08-23  17.634779  39.450001  54.495735  3.869963  14.168562  1.921849\n",
       "2004-08-24  17.634779  39.049999  52.239193  3.725836  14.026159  1.975645\n",
       "2004-08-25  17.835468  40.299999  52.802086  3.885296  14.207398  2.043664"
      ]
     },
     "execution_count": 14,
     "metadata": {},
     "output_type": "execute_result"
    }
   ],
   "source": [
    "dfStocks.head()"
   ]
  },
  {
   "cell_type": "markdown",
   "metadata": {},
   "source": [
    "### Shuffle and Split Data\n",
    "Now all stock closing prices have been converted into numerical features. As always, we will now split the data (both features and their labels) into training and test sets. 80% of the data will be used for training and 20% for testing.\n",
    "\n",
    "With time series predictions, it's crucial to avoid random splitting, and do it in a chronological fashion, so that testing data information does not leak into training process. For example, if the price of a stock on July 14th and July 16th are in training, and July 15th is in testing, it's going to be really easy for the model to interpolate and guess the 15th perfectly, because it has \"seen the future\". "
   ]
  },
  {
   "cell_type": "markdown",
   "metadata": {
    "collapsed": true
   },
   "source": [
    "#### In this part, AAPL data will be examined. A week's data will be used to predict the closing price 3 days later."
   ]
  },
  {
   "cell_type": "code",
   "execution_count": 15,
   "metadata": {},
   "outputs": [],
   "source": [
    "#features will be closing data for a week:\n",
    "data_aapl=dfStocks['AAPL'].to_frame(name = 'Day0')\n",
    "\n",
    "for i in range(1,7):\n",
    "    data_temp=dfStocks['AAPL'].shift(-i)\n",
    "    data_aapl=data_aapl.join(data_temp.to_frame(name='Day{}'.format(i)), how='inner')\n",
    "\n",
    "#last collumn is price after 3 days:    \n",
    "data_temp=dfStocks['AAPL'].shift(-9)\n",
    "data_aapl=data_aapl.join(data_temp.to_frame(name='Day{}'.format('9')), how='inner')\n",
    "data_aapl=data_aapl.dropna()"
   ]
  },
  {
   "cell_type": "code",
   "execution_count": 16,
   "metadata": {},
   "outputs": [],
   "source": [
    "#split into features and price\n",
    "price_final=data_aapl['Day9']\n",
    "features_final=data_aapl.drop('Day9', axis = 1)"
   ]
  },
  {
   "cell_type": "code",
   "execution_count": 17,
   "metadata": {},
   "outputs": [
    {
     "data": {
      "text/html": [
       "<div>\n",
       "<style scoped>\n",
       "    .dataframe tbody tr th:only-of-type {\n",
       "        vertical-align: middle;\n",
       "    }\n",
       "\n",
       "    .dataframe tbody tr th {\n",
       "        vertical-align: top;\n",
       "    }\n",
       "\n",
       "    .dataframe thead th {\n",
       "        text-align: right;\n",
       "    }\n",
       "</style>\n",
       "<table border=\"1\" class=\"dataframe\">\n",
       "  <thead>\n",
       "    <tr style=\"text-align: right;\">\n",
       "      <th></th>\n",
       "      <th>Day0</th>\n",
       "      <th>Day1</th>\n",
       "      <th>Day2</th>\n",
       "      <th>Day3</th>\n",
       "      <th>Day4</th>\n",
       "      <th>Day5</th>\n",
       "      <th>Day6</th>\n",
       "    </tr>\n",
       "  </thead>\n",
       "  <tbody>\n",
       "    <tr>\n",
       "      <th>2004-08-19</th>\n",
       "      <td>1.898969</td>\n",
       "      <td>1.904534</td>\n",
       "      <td>1.921849</td>\n",
       "      <td>1.975645</td>\n",
       "      <td>2.043664</td>\n",
       "      <td>2.143219</td>\n",
       "      <td>2.124051</td>\n",
       "    </tr>\n",
       "    <tr>\n",
       "      <th>2004-08-20</th>\n",
       "      <td>1.904534</td>\n",
       "      <td>1.921849</td>\n",
       "      <td>1.975645</td>\n",
       "      <td>2.043664</td>\n",
       "      <td>2.143219</td>\n",
       "      <td>2.124051</td>\n",
       "      <td>2.109828</td>\n",
       "    </tr>\n",
       "    <tr>\n",
       "      <th>2004-08-23</th>\n",
       "      <td>1.921849</td>\n",
       "      <td>1.975645</td>\n",
       "      <td>2.043664</td>\n",
       "      <td>2.143219</td>\n",
       "      <td>2.124051</td>\n",
       "      <td>2.109828</td>\n",
       "      <td>2.132708</td>\n",
       "    </tr>\n",
       "    <tr>\n",
       "      <th>2004-08-24</th>\n",
       "      <td>1.975645</td>\n",
       "      <td>2.043664</td>\n",
       "      <td>2.143219</td>\n",
       "      <td>2.124051</td>\n",
       "      <td>2.109828</td>\n",
       "      <td>2.132708</td>\n",
       "      <td>2.217423</td>\n",
       "    </tr>\n",
       "    <tr>\n",
       "      <th>2004-08-25</th>\n",
       "      <td>2.043664</td>\n",
       "      <td>2.143219</td>\n",
       "      <td>2.124051</td>\n",
       "      <td>2.109828</td>\n",
       "      <td>2.132708</td>\n",
       "      <td>2.217423</td>\n",
       "      <td>2.205055</td>\n",
       "    </tr>\n",
       "  </tbody>\n",
       "</table>\n",
       "</div>"
      ],
      "text/plain": [
       "                Day0      Day1      Day2      Day3      Day4      Day5  \\\n",
       "2004-08-19  1.898969  1.904534  1.921849  1.975645  2.043664  2.143219   \n",
       "2004-08-20  1.904534  1.921849  1.975645  2.043664  2.143219  2.124051   \n",
       "2004-08-23  1.921849  1.975645  2.043664  2.143219  2.124051  2.109828   \n",
       "2004-08-24  1.975645  2.043664  2.143219  2.124051  2.109828  2.132708   \n",
       "2004-08-25  2.043664  2.143219  2.124051  2.109828  2.132708  2.217423   \n",
       "\n",
       "                Day6  \n",
       "2004-08-19  2.124051  \n",
       "2004-08-20  2.109828  \n",
       "2004-08-23  2.132708  \n",
       "2004-08-24  2.217423  \n",
       "2004-08-25  2.205055  "
      ]
     },
     "execution_count": 17,
     "metadata": {},
     "output_type": "execute_result"
    }
   ],
   "source": [
    "features_final.head()"
   ]
  },
  {
   "cell_type": "code",
   "execution_count": 18,
   "metadata": {},
   "outputs": [
    {
     "data": {
      "text/plain": [
       "2004-08-19    2.217423\n",
       "2004-08-20    2.205055\n",
       "2004-08-23    2.178466\n",
       "2004-08-24    2.211238\n",
       "2004-08-25    2.247721\n",
       "Name: Day9, dtype: float64"
      ]
     },
     "execution_count": 18,
     "metadata": {},
     "output_type": "execute_result"
    }
   ],
   "source": [
    "price_final.head()"
   ]
  },
  {
   "cell_type": "code",
   "execution_count": 19,
   "metadata": {},
   "outputs": [],
   "source": [
    "#for financial data, random split is not appropiate:\n",
    "def split_data(X,y):\n",
    "    #for financial data, random split is not appropiate:\n",
    "    split_point=int(np.floor(len(y)*0.8))\n",
    "    #print \"Training set has {} samples.\".format(split_point)\n",
    "    #print \"Testing set has {} samples.\".format(len(price_final)-split_point)\n",
    "    X_train=X[:split_point]\n",
    "    X_test=X[split_point:]\n",
    "    y_train=y[:split_point]\n",
    "    y_test=y[split_point:]\n",
    "    return X_train, X_test, y_train, y_test\n",
    "\n",
    "X_train, X_test, y_train, y_test=split_data(features_final,price_final)"
   ]
  },
  {
   "cell_type": "markdown",
   "metadata": {},
   "source": [
    "----\n",
    "## Evaluating Model Performance\n",
    "In this section, we will investigate different algorithms, and determine which is best at modeling the data. One of the algorithms is known as a *naive predictor*, which will be the benchmark predictor."
   ]
  },
  {
   "cell_type": "code",
   "execution_count": 20,
   "metadata": {},
   "outputs": [],
   "source": [
    "def naive_predictor0(X_test):\n",
    "    #features will be closing data for a week:\n",
    "    data_msft=dfStocks['MSFT']\n",
    "    p1=data_msft.iloc[0]\n",
    "    p2=data_msft.iloc[-1]\n",
    "    increase_rate=(p2-p1)/p1/len(data_msft)\n",
    "    price1=X_test['Day0']\n",
    "    return price1*(1+increase_rate*9)\n",
    "price_predict0=naive_predictor0(X_test)"
   ]
  },
  {
   "cell_type": "code",
   "execution_count": 21,
   "metadata": {},
   "outputs": [
    {
     "name": "stdout",
     "output_type": "stream",
     "text": [
      "The testing error using the naive predictor is 0.05405287122191149\n"
     ]
    }
   ],
   "source": [
    "# Evaluate Model using RMS error:\n",
    "def ERMS_cal(y_predict,y_test):\n",
    "    errors=(y_predict-y_test)/y_test\n",
    "    ##root mean square error:\n",
    "    ERMS=((errors**2).mean())**0.5\n",
    "    return ERMS\n",
    "\n",
    "print('The testing error using the naive predictor is {}'.format(ERMS_cal(price_predict0,y_test)))"
   ]
  },
  {
   "cell_type": "code",
   "execution_count": 22,
   "metadata": {},
   "outputs": [
    {
     "name": "stdout",
     "output_type": "stream",
     "text": [
      "The training error (root mean square error) using the naive predictor is 0.06776922008834982\n"
     ]
    }
   ],
   "source": [
    "y_pred_train0=naive_predictor0(X_train)\n",
    "print('The training error (root mean square error) using the naive predictor is {}'.format(ERMS_cal(y_pred_train0,y_train)))"
   ]
  },
  {
   "cell_type": "markdown",
   "metadata": {},
   "source": [
    "#####  Use linear regression to predict the price"
   ]
  },
  {
   "cell_type": "code",
   "execution_count": 23,
   "metadata": {},
   "outputs": [],
   "source": [
    "from sklearn import  linear_model\n",
    "def pred_Linear(X_train, y_train, X_test):\n",
    "    regr = linear_model.LinearRegression()\n",
    "    regr.fit(X_train, y_train)\n",
    "    y_pred = regr.predict(X_test)\n",
    "    return y_pred\n",
    "\n",
    "y_pred1=pred_Linear(X_train, y_train, X_test)"
   ]
  },
  {
   "cell_type": "code",
   "execution_count": 24,
   "metadata": {},
   "outputs": [
    {
     "name": "stdout",
     "output_type": "stream",
     "text": [
      "The testing error (root mean square error) using the linear regression predictor is 0.029864542507198475\n"
     ]
    }
   ],
   "source": [
    "print('The testing error (root mean square error) using the linear regression predictor is {}'.format(ERMS_cal(y_pred1,y_test)))"
   ]
  },
  {
   "cell_type": "code",
   "execution_count": 25,
   "metadata": {},
   "outputs": [
    {
     "name": "stdout",
     "output_type": "stream",
     "text": [
      "The training eroor (root mean square error) using the naive predictor is 0.03755047393535454\n"
     ]
    }
   ],
   "source": [
    "#also report the training error:\n",
    "y_pred_train1=pred_Linear(X_train, y_train, X_train)\n",
    "print('The training eroor (root mean square error) using the naive predictor is {}'.format(ERMS_cal(y_pred_train1,y_train)))"
   ]
  },
  {
   "cell_type": "code",
   "execution_count": 26,
   "metadata": {},
   "outputs": [
    {
     "data": {
      "image/png": "[encoded data removed]",
      "text/plain": [
       "<Figure size 432x288 with 1 Axes>"
      ]
     },
     "metadata": {
      "needs_background": "light"
     },
     "output_type": "display_data"
    }
   ],
   "source": [
    "fig, ax = plt.subplots()\n",
    "ax.scatter(y_test, y_pred1, edgecolors=(0, 0, 0))\n",
    "#ax.plot([y.min(), y.max()], [y.min(), y.max()], 'k--', lw=4)\n",
    "ax.set_xlabel('Measured')\n",
    "ax.set_ylabel('Predicted')\n",
    "plt.show()"
   ]
  },
  {
   "cell_type": "markdown",
   "metadata": {},
   "source": [
    "#### Freeform visualization"
   ]
  },
  {
   "cell_type": "code",
   "execution_count": 27,
   "metadata": {},
   "outputs": [
    {
     "data": {
      "image/png": "[encoded data removed]",
      "text/plain": [
       "<Figure size 432x288 with 1 Axes>"
      ]
     },
     "metadata": {
      "needs_background": "light"
     },
     "output_type": "display_data"
    }
   ],
   "source": [
    "\n",
    "ax=y_test.plot(label='Actual price')\n",
    "ax.set_ylabel('Adjusted closing price')\n",
    "predicted_price=pd.Series(data=y_pred1, index=y_test.index)\n",
    "predicted_price.plot(ax=ax,label='Predicted price')\n",
    "ax.legend()\n",
    "plt.show()"
   ]
  },
  {
   "cell_type": "code",
   "execution_count": 28,
   "metadata": {},
   "outputs": [],
   "source": [
    "## test model on other stocks:\n",
    "def compile_data(sticker):\n",
    "    data_sticker=dfStocks[sticker].to_frame(name = 'Day0')\n",
    "\n",
    "    for i in range(1,7):\n",
    "        data_temp=dfStocks[sticker].shift(-i)\n",
    "        data_sticker=data_sticker.join(data_temp.to_frame(name='Day{}'.format(i)), how='inner')\n",
    "\n",
    "    #last collumn is price after 3 days:    \n",
    "    data_temp=dfStocks[sticker].shift(-9)\n",
    "    data_sticker=data_sticker.join(data_temp.to_frame(name='Day{}'.format('9')), how='inner')\n",
    "    data_sticker=data_sticker.dropna()\n",
    "    #split into features and price\n",
    "    price_final=data_sticker['Day9']\n",
    "    features_final=data_sticker.drop('Day9', axis = 1)\n",
    "    X_train, X_test, y_train, y_test=split_data(features_final,price_final)\n",
    "    return X_train, X_test, y_train, y_test\n",
    "    \n",
    "\n",
    "\n"
   ]
  },
  {
   "cell_type": "code",
   "execution_count": 29,
   "metadata": {},
   "outputs": [],
   "source": [
    "ErrorNaive=[]\n",
    "ErrorLinear=[]\n",
    "for sticker in stickers:\n",
    "    X_train, X_test, y_train, y_test= compile_data(sticker)\n",
    "    y_2=pred_Linear(X_train, y_train, X_test)\n",
    "    y_1=naive_predictor0(X_test)\n",
    "    ErrorNaive.append(ERMS_cal(y_1,y_test))\n",
    "    ErrorLinear.append(ERMS_cal(y_2,y_test))"
   ]
  },
  {
   "cell_type": "code",
   "execution_count": 30,
   "metadata": {},
   "outputs": [
    {
     "data": {
      "text/html": [
       "<div>\n",
       "<style scoped>\n",
       "    .dataframe tbody tr th:only-of-type {\n",
       "        vertical-align: middle;\n",
       "    }\n",
       "\n",
       "    .dataframe tbody tr th {\n",
       "        vertical-align: top;\n",
       "    }\n",
       "\n",
       "    .dataframe thead th {\n",
       "        text-align: right;\n",
       "    }\n",
       "</style>\n",
       "<table border=\"1\" class=\"dataframe\">\n",
       "  <thead>\n",
       "    <tr style=\"text-align: right;\">\n",
       "      <th></th>\n",
       "      <th>Naive</th>\n",
       "      <th>Linear</th>\n",
       "    </tr>\n",
       "  </thead>\n",
       "  <tbody>\n",
       "    <tr>\n",
       "      <th>MSFT</th>\n",
       "      <td>0.040152</td>\n",
       "      <td>0.024294</td>\n",
       "    </tr>\n",
       "    <tr>\n",
       "      <th>AMZN</th>\n",
       "      <td>0.053733</td>\n",
       "      <td>0.030824</td>\n",
       "    </tr>\n",
       "    <tr>\n",
       "      <th>GOOG</th>\n",
       "      <td>0.049730</td>\n",
       "      <td>0.026971</td>\n",
       "    </tr>\n",
       "    <tr>\n",
       "      <th>NVDA</th>\n",
       "      <td>0.092222</td>\n",
       "      <td>0.052864</td>\n",
       "    </tr>\n",
       "    <tr>\n",
       "      <th>INTC</th>\n",
       "      <td>0.059130</td>\n",
       "      <td>0.032503</td>\n",
       "    </tr>\n",
       "    <tr>\n",
       "      <th>AAPL</th>\n",
       "      <td>0.054053</td>\n",
       "      <td>0.029865</td>\n",
       "    </tr>\n",
       "  </tbody>\n",
       "</table>\n",
       "</div>"
      ],
      "text/plain": [
       "         Naive    Linear\n",
       "MSFT  0.040152  0.024294\n",
       "AMZN  0.053733  0.030824\n",
       "GOOG  0.049730  0.026971\n",
       "NVDA  0.092222  0.052864\n",
       "INTC  0.059130  0.032503\n",
       "AAPL  0.054053  0.029865"
      ]
     },
     "execution_count": 30,
     "metadata": {},
     "output_type": "execute_result"
    }
   ],
   "source": [
    "Error_compare=pd.DataFrame(data={'Naive':ErrorNaive,'Linear':ErrorLinear},index=stickers)\n",
    "Error_compare"
   ]
  },
  {
   "cell_type": "code",
   "execution_count": 31,
   "metadata": {},
   "outputs": [
    {
     "data": {
      "text/html": [
       "<div>\n",
       "<style scoped>\n",
       "    .dataframe tbody tr th:only-of-type {\n",
       "        vertical-align: middle;\n",
       "    }\n",
       "\n",
       "    .dataframe tbody tr th {\n",
       "        vertical-align: top;\n",
       "    }\n",
       "\n",
       "    .dataframe thead th {\n",
       "        text-align: right;\n",
       "    }\n",
       "</style>\n",
       "<table border=\"1\" class=\"dataframe\">\n",
       "  <thead>\n",
       "    <tr style=\"text-align: right;\">\n",
       "      <th></th>\n",
       "      <th>Naive</th>\n",
       "      <th>Linear</th>\n",
       "    </tr>\n",
       "  </thead>\n",
       "  <tbody>\n",
       "    <tr>\n",
       "      <th>count</th>\n",
       "      <td>6.000000</td>\n",
       "      <td>6.000000</td>\n",
       "    </tr>\n",
       "    <tr>\n",
       "      <th>mean</th>\n",
       "      <td>0.058170</td>\n",
       "      <td>0.032887</td>\n",
       "    </tr>\n",
       "    <tr>\n",
       "      <th>std</th>\n",
       "      <td>0.017849</td>\n",
       "      <td>0.010212</td>\n",
       "    </tr>\n",
       "    <tr>\n",
       "      <th>min</th>\n",
       "      <td>0.040152</td>\n",
       "      <td>0.024294</td>\n",
       "    </tr>\n",
       "    <tr>\n",
       "      <th>25%</th>\n",
       "      <td>0.050730</td>\n",
       "      <td>0.027695</td>\n",
       "    </tr>\n",
       "    <tr>\n",
       "      <th>50%</th>\n",
       "      <td>0.053893</td>\n",
       "      <td>0.030344</td>\n",
       "    </tr>\n",
       "    <tr>\n",
       "      <th>75%</th>\n",
       "      <td>0.057860</td>\n",
       "      <td>0.032083</td>\n",
       "    </tr>\n",
       "    <tr>\n",
       "      <th>max</th>\n",
       "      <td>0.092222</td>\n",
       "      <td>0.052864</td>\n",
       "    </tr>\n",
       "  </tbody>\n",
       "</table>\n",
       "</div>"
      ],
      "text/plain": [
       "          Naive    Linear\n",
       "count  6.000000  6.000000\n",
       "mean   0.058170  0.032887\n",
       "std    0.017849  0.010212\n",
       "min    0.040152  0.024294\n",
       "25%    0.050730  0.027695\n",
       "50%    0.053893  0.030344\n",
       "75%    0.057860  0.032083\n",
       "max    0.092222  0.052864"
      ]
     },
     "execution_count": 31,
     "metadata": {},
     "output_type": "execute_result"
    }
   ],
   "source": [
    "Error_compare.describe()"
   ]
  },
  {
   "cell_type": "code",
   "execution_count": 32,
   "metadata": {},
   "outputs": [
    {
     "data": {
      "image/png": "[encoded data removed]",
      "text/plain": [
       "<Figure size 432x288 with 1 Axes>"
      ]
     },
     "metadata": {
      "needs_background": "light"
     },
     "output_type": "display_data"
    }
   ],
   "source": [
    "ax=Error_compare.plot.bar()\n",
    "ax.set_ylabel('ERMS')\n",
    "plt.show()"
   ]
  },
  {
   "cell_type": "markdown",
   "metadata": {},
   "source": [
    "#####  Use KNN regression to predict the price"
   ]
  },
  {
   "cell_type": "code",
   "execution_count": 33,
   "metadata": {},
   "outputs": [],
   "source": [
    "from sklearn.neighbors import KNeighborsRegressor\n",
    "def pred_KNN(X_train, y_train, X_test, n):\n",
    "    neigh = KNeighborsRegressor(n_neighbors=n)\n",
    "    neigh.fit(X_train, y_train)\n",
    "    y_pred=neigh.predict(X_test)\n",
    "    y_pred=pd.Series(data=y_pred, index=X_test.index)\n",
    "    return y_pred"
   ]
  },
  {
   "cell_type": "code",
   "execution_count": 34,
   "metadata": {},
   "outputs": [
    {
     "name": "stdout",
     "output_type": "stream",
     "text": [
      "KNN gives root mean squared error is 0.33533785628767904\n"
     ]
    }
   ],
   "source": [
    "X_train, X_test, y_train, y_test= compile_data('AAPL')\n",
    "y_pred2=pred_KNN(X_train, y_train, X_test, 5)\n",
    "print('KNN gives root mean squared error is {}'.format(ERMS_cal(y_pred2,y_test)))"
   ]
  },
  {
   "cell_type": "code",
   "execution_count": 35,
   "metadata": {},
   "outputs": [
    {
     "name": "stdout",
     "output_type": "stream",
     "text": [
      "The training eroor (root mean square error) using the kNN predictor is 0.03124658452574455\n"
     ]
    }
   ],
   "source": [
    "#also report the training error:\n",
    "y_pred_train2=pred_KNN(X_train, y_train, X_train,5)\n",
    "print('The training eroor (root mean square error) using the kNN predictor is {}'.format(ERMS_cal(y_pred_train2,y_train)))"
   ]
  },
  {
   "cell_type": "markdown",
   "metadata": {},
   "source": [
    "----\n",
    "## Refinement: improving Results\n",
    "In this final section, a search optimization will be performed for the model over the entire training set (`X_train` and `y_train`) by tuning at least one parameter."
   ]
  },
  {
   "cell_type": "code",
   "execution_count": 36,
   "metadata": {},
   "outputs": [],
   "source": [
    "# A improvement for the naive predictor using individual stock price rather than MSFT\n",
    "def naive_predictor(X_test):\n",
    "    p1=X_test['Day0']\n",
    "    p2=X_test['Day6']\n",
    "    y_pred=(p2-p1)/6*9+p1\n",
    "    return y_pred\n",
    "\n",
    "price_predict=naive_predictor(X_test)"
   ]
  },
  {
   "cell_type": "code",
   "execution_count": 37,
   "metadata": {},
   "outputs": [
    {
     "name": "stdout",
     "output_type": "stream",
     "text": [
      "The root mean square error using the naive predictor is 0.035804444724457714\n"
     ]
    }
   ],
   "source": [
    "print('The root mean square error using the naive predictor is {}'.format(ERMS_cal(price_predict,y_test)))"
   ]
  },
  {
   "cell_type": "markdown",
   "metadata": {
    "collapsed": true
   },
   "source": [
    "Refinement for linear regression"
   ]
  },
  {
   "cell_type": "code",
   "execution_count": 38,
   "metadata": {},
   "outputs": [],
   "source": [
    "# one parameter that can be tuned is the number of days used in the training set:\n",
    "def compile_data_Nday(sticker,dates,N):\n",
    "    stickers=['MSFT','AMZN','GOOG','NVDA','INTC','AAPL']\n",
    "    dfStocks=readStocks(stickers,dates)\n",
    "    data_sticker=dfStocks[sticker].to_frame(name = 'Day0')\n",
    "\n",
    "    for i in range(1,N):\n",
    "        data_temp=dfStocks[sticker].shift(-i)\n",
    "        data_sticker=data_sticker.join(data_temp.to_frame(name='Day{}'.format(i)), how='inner')\n",
    "\n",
    "    #last collumn is price after 3 days: \n",
    "    estimate_day=N+2\n",
    "    data_temp=dfStocks[sticker].shift(-estimate_day)\n",
    "    data_sticker=data_sticker.join(data_temp.to_frame(name='Day{}'.format(estimate_day)), how='inner')\n",
    "    data_sticker=data_sticker.dropna()\n",
    "    #split into features and price\n",
    "    price_final=data_sticker['Day{}'.format(estimate_day)]\n",
    "    features_final=data_sticker.drop('Day{}'.format(estimate_day), axis = 1)\n",
    "    X_train, X_test, y_train, y_test=split_data(features_final,price_final)\n",
    "    return X_train, X_test, y_train, y_test\n"
   ]
  },
  {
   "cell_type": "code",
   "execution_count": 39,
   "metadata": {},
   "outputs": [
    {
     "data": {
      "image/png": "[encoded data removed]",
      "text/plain": [
       "<Figure size 432x288 with 1 Axes>"
      ]
     },
     "metadata": {
      "needs_background": "light"
     },
     "output_type": "display_data"
    }
   ],
   "source": [
    "ErrorDay=[]\n",
    "train_days=list(range(1,30))\n",
    "dates=pd.date_range('2004-01-01','2020-03-31')\n",
    "for N in train_days:\n",
    "    X_tr, X_cross, y_tr, y_cross= compile_data_Nday('AAPL',dates,N)\n",
    "    # split training data into train and cross_validation data:\n",
    "    #X_tr, X_cross, y_tr, y_cross=split_data(X_train,y_train)\n",
    "    y_pre=pred_Linear(X_tr, y_tr, X_cross)\n",
    "    ErrorDay.append(ERMS_cal(y_pre,y_cross))\n",
    "\n",
    "Error=pd.Series(data=ErrorDay, index=train_days)\n",
    "ax=Error.plot()\n",
    "ax.set_ylabel('Error')\n",
    "ax.set_xlabel('Days used in training')\n",
    "plt.show()"
   ]
  },
  {
   "cell_type": "code",
   "execution_count": 40,
   "metadata": {},
   "outputs": [
    {
     "name": "stdout",
     "output_type": "stream",
     "text": [
      "The testing error using the improved linear predictor is 0.029891929451057855\n"
     ]
    }
   ],
   "source": [
    "dates=pd.date_range('2004-01-01','2020-03-31')\n",
    "X_train, X_test, y_train, y_test= compile_data_Nday('AAPL',dates,14)\n",
    "y_pre3=pred_Linear(X_train, y_train, X_test)\n",
    "print('The testing error using the improved linear predictor is {}'.format(ERMS_cal(y_pre3,y_test)))"
   ]
  },
  {
   "cell_type": "code",
   "execution_count": 41,
   "metadata": {},
   "outputs": [
    {
     "name": "stdout",
     "output_type": "stream",
     "text": [
      "The training error using the improved linear predictor is 0.03755505648106298\n"
     ]
    }
   ],
   "source": [
    "#training error:\n",
    "y_pre_train3=pred_Linear(X_train, y_train, X_train)\n",
    "print('The training error using the improved linear predictor is {}'.format(ERMS_cal(y_pre_train3,y_train)))"
   ]
  },
  {
   "cell_type": "code",
   "execution_count": 42,
   "metadata": {},
   "outputs": [],
   "source": [
    "# How many days the predicted day is away from the training date can also be important:\n",
    "def compile_data_nday(sticker,dates,n):\n",
    "    stickers=['MSFT','AMZN','GOOG','NVDA','INTC','AAPL']\n",
    "    dfStocks=readStocks(stickers,dates)\n",
    "    data_sticker=dfStocks[sticker].to_frame(name = 'Day0')\n",
    "\n",
    "    for i in range(1,7):\n",
    "        data_temp=dfStocks[sticker].shift(-i)\n",
    "        data_sticker=data_sticker.join(data_temp.to_frame(name='Day{}'.format(i)), how='inner')\n",
    "\n",
    "    #last collumn is price after n days: \n",
    "    estimate_day=7+n-1\n",
    "    data_temp=dfStocks[sticker].shift(-estimate_day)\n",
    "    data_sticker=data_sticker.join(data_temp.to_frame(name='Day{}'.format(estimate_day)), how='inner')\n",
    "    data_sticker=data_sticker.dropna()\n",
    "    #split into features and price\n",
    "    price_final=data_sticker['Day{}'.format(estimate_day)]\n",
    "    features_final=data_sticker.drop('Day{}'.format(estimate_day), axis = 1)\n",
    "    X_train, X_test, y_train, y_test=split_data(features_final,price_final)\n",
    "    return X_train, X_test, y_train, y_test\n",
    "\n"
   ]
  },
  {
   "cell_type": "code",
   "execution_count": 43,
   "metadata": {},
   "outputs": [
    {
     "data": {
      "image/png": "[encoded data removed]",
      "text/plain": [
       "<Figure size 432x288 with 1 Axes>"
      ]
     },
     "metadata": {
      "needs_background": "light"
     },
     "output_type": "display_data"
    }
   ],
   "source": [
    "ErrorDay=[]\n",
    "train_days=list(range(1,15))\n",
    "dates=pd.date_range('2004-01-01','2020-03-31')\n",
    "for N in train_days:\n",
    "    X_train, X_test, y_train, y_test= compile_data_Nday('AAPL',dates,N)\n",
    "    # split training data into train and cross_validation data:\n",
    "    #X_tr, X_cross, y_tr, y_cross=split_data(X_train,y_train)\n",
    "    y_pre=pred_Linear(X_train, y_train, X_test)\n",
    "    ErrorDay.append(ERMS_cal(y_pre,y_test))\n",
    "\n",
    "Error=pd.Series(data=ErrorDay, index=train_days)\n",
    "ax=Error.plot()\n",
    "ax.set_ylabel('Error')\n",
    "ax.set_xlabel('How many days in advance to predict')\n",
    "plt.show()"
   ]
  },
  {
   "cell_type": "code",
   "execution_count": 44,
   "metadata": {},
   "outputs": [
    {
     "data": {
      "image/png": "[encoded data removed]",
      "text/plain": [
       "<Figure size 432x288 with 1 Axes>"
      ]
     },
     "metadata": {
      "needs_background": "light"
     },
     "output_type": "display_data"
    }
   ],
   "source": [
    "## refinement of KNN: changing n_neighbors\n",
    "X_tr, X_cross, y_tr, y_cross=split_data(X_train,y_train)\n",
    "N=range(2,30)\n",
    "Errors=[]\n",
    "for n in N:\n",
    "    y_pred1=pred_KNN(X_tr, y_tr, X_cross, n)\n",
    "    Errors.append(ERMS_cal(y_pred1,y_cross))\n",
    "Errors=pd.Series(data=Errors,index=N)\n",
    "\n",
    "\n",
    "ax=Errors.plot()\n",
    "ax.set_xlabel('Number of neighbors')\n",
    "ax.set_ylabel('Cross-validation Error')\n",
    "plt.show()"
   ]
  },
  {
   "cell_type": "code",
   "execution_count": 45,
   "metadata": {},
   "outputs": [
    {
     "name": "stdout",
     "output_type": "stream",
     "text": [
      "Training error using Improved KNN: 0.03745447839820818\n"
     ]
    }
   ],
   "source": [
    "y_pred4_train=pred_KNN(X_train, y_train, X_train, 14)\n",
    "print('Training error using Improved KNN: {}'.format(ERMS_cal(y_pred4_train,y_train)))"
   ]
  },
  {
   "cell_type": "code",
   "execution_count": 46,
   "metadata": {},
   "outputs": [
    {
     "name": "stdout",
     "output_type": "stream",
     "text": [
      "Testing error using Improved KNN:  0.35396387059525636\n"
     ]
    }
   ],
   "source": [
    "X_train, X_test, y_train, y_test= compile_data('AAPL')\n",
    "y_pred4=pred_KNN(X_train, y_train, X_test, 14)\n",
    "print('Testing error using Improved KNN:  {}'.format(ERMS_cal(y_pred4,y_test)))"
   ]
  }
 ],
 "metadata": {
  "kernelspec": {
   "display_name": "Python 3",
   "language": "python",
   "name": "python3"
  },
  "language_info": {
   "codemirror_mode": {
    "name": "ipython",
    "version": 3
   },
   "file_extension": ".py",
   "mimetype": "text/x-python",
   "name": "python",
   "nbconvert_exporter": "python",
   "pygments_lexer": "ipython3",
   "version": "3.7.7"
  }
 },
 "nbformat": 4,
 "nbformat_minor": 2
}
